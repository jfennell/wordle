{
 "cells": [
  {
   "cell_type": "code",
   "execution_count": 44,
   "id": "fb66e4be-058e-4b08-a1ce-694a74c7478b",
   "metadata": {},
   "outputs": [],
   "source": [
    "import collections\n",
    "import random"
   ]
  },
  {
   "cell_type": "code",
   "execution_count": 1,
   "id": "e8394678-801a-4e3a-b25e-42ce0c14a0ea",
   "metadata": {},
   "outputs": [],
   "source": [
    "def get_words_alpha(path='words_alpha.txt'):\n",
    "    with open(path) as f:\n",
    "        vocab = {w.strip():1 for w in f.read().split()}\n",
    "    return vocab\n",
    "\n",
    "def get_unigram_freq(path='unigram_freq.csv'):\n",
    "    with open(path) as f:\n",
    "        vocab = {}\n",
    "        for l in f.read().split():\n",
    "            w, c = l.split(',', 2)\n",
    "            vocab[w] = c\n",
    "    return vocab"
   ]
  },
  {
   "cell_type": "code",
   "execution_count": 3,
   "id": "bd1512bf-e193-426c-bfc4-a795ec263f88",
   "metadata": {},
   "outputs": [],
   "source": [
    "    unigram_freq = get_unigram_freq()\n",
    "    words_alpha = get_words_alpha()\n",
    "\n",
    "    unigram_freq_s = set(unigram_freq)\n",
    "    words_alpha_s = set(words_alpha)\n",
    "\n",
    "    only_unigram_freq = unigram_freq_s.difference(words_alpha_s)\n",
    "    only_words_alpha = words_alpha_s.difference(unigram_freq_s)\n",
    "    common_words = unigram_freq_s.intersection(words_alpha_s)\n"
   ]
  },
  {
   "cell_type": "code",
   "execution_count": 14,
   "id": "8c752892-7039-4317-85d9-cb0b6ccf6e7b",
   "metadata": {},
   "outputs": [
    {
     "name": "stdout",
     "output_type": "stream",
     "text": [
      "# of unigram_freq is 333333\n",
      "# of words unique to unigram_freq is 237031 (0.71%)\n",
      "# of words_alpha is 370103\n",
      "# of words unique to words_alpha is 273801 (0.74%)\n",
      "# of common words is 96302\n"
     ]
    }
   ],
   "source": [
    "def print_basic_stats():\n",
    "    print(f'# of unigram_freq is {len(unigram_freq)}')\n",
    "    print(f'# of words unique to unigram_freq is {len(only_unigram_freq)} ({len(only_unigram_freq)/len(unigram_freq):.02f}%)')\n",
    "    print(f'# of words_alpha is {len(words_alpha)}')\n",
    "    print(f'# of words unique to words_alpha is {len(only_words_alpha)} ({len(only_words_alpha)/len(words_alpha):.02f}%)')\n",
    "    print(f'# of common words is {len(common_words)}')\n",
    "print_basic_stats()\n"
   ]
  },
  {
   "cell_type": "code",
   "execution_count": 38,
   "id": "b990957a-974d-4a9a-a171-89b788ffa0a9",
   "metadata": {},
   "outputs": [
    {
     "name": "stdout",
     "output_type": "stream",
     "text": [
      "Random samples from only unigram_freq\n",
      "sirmans          :15448\n",
      "liapunov         :18447\n",
      "seiberg          :53445\n",
      "ukt              :24621\n",
      "giordana         :62234\n",
      "adcalls          :91478\n",
      "schulbuch        :22905\n",
      "mxz              :42551\n",
      "promotioncustomer:16022\n",
      "kwang            :215409\n",
      "\n",
      "Random samples from only words_alpha\n",
      "clubwoman\n",
      "curets\n",
      "tripaschal\n",
      "gappy\n",
      "befouled\n",
      "agriotypus\n",
      "neuropsychical\n",
      "purled\n",
      "howffs\n",
      "overloose\n",
      "\n",
      "Random samples from common subset\n",
      "firehouse\n",
      "typifies\n",
      "safeguard\n",
      "myrica\n",
      "grammatical\n",
      "tuples\n",
      "subshrub\n",
      "damages\n",
      "minimised\n",
      "unicellular\n"
     ]
    }
   ],
   "source": [
    "def random_sample_and_show(L, n=10):\n",
    "    samples = random.sample(L, n)\n",
    "    for s in samples:\n",
    "        print(s)\n",
    "        \n",
    "print(\"Random samples from only unigram_freq\")\n",
    "#random_sample_and_show(only_unigram_freq)\n",
    "def random_sample_and_show_with_freq(L, D, n=10):\n",
    "    samples = random.sample(L, n)\n",
    "    maxlen = max(len(w) for w in samples)\n",
    "    for s in samples:\n",
    "        print(f'{s:{maxlen}s}:{D.get(s, 0)}')\n",
    "random_sample_and_show_with_freq(only_unigram_freq, unigram_freq)\n",
    "print(\"\\nRandom samples from only words_alpha\")\n",
    "random_sample_and_show(only_words_alpha)\n",
    "print(\"\\nRandom samples from common subset\")\n",
    "random_sample_and_show(common_words)"
   ]
  },
  {
   "cell_type": "markdown",
   "id": "18a1acb7-a139-4791-861e-38a5ad19fd1d",
   "metadata": {},
   "source": [
    "## Looking at freq distribution\n",
    "Going to take a look at what the frequency distribution is for the words in the common subset and see if we can have a slightly more useful weighting function"
   ]
  },
  {
   "cell_type": "code",
   "execution_count": 49,
   "id": "4f925d37-4035-486a-b637-660b07348461",
   "metadata": {},
   "outputs": [
    {
     "name": "stdout",
     "output_type": "stream",
     "text": [
      "84846\n",
      "Min freq: 100002\n",
      "Max freq: 999899654\n",
      "Max/Min ratio: 9998.796564068718\n"
     ]
    }
   ],
   "source": [
    "unigram_freq_common_subset = {k:v for k, v in unigram_freq.items() if k in common_words}\n",
    "freqs = {v for k, v in unigram_freq_common_subset.items()}\n",
    "def get_distribution(iterable):\n",
    "    freq_counter = collections.Counter()\n",
    "    for x in iterable:\n",
    "        freq_counter[x] += 1\n",
    "    return freq_counter\n",
    "freq_distribution = get_distribution(freqs)\n",
    "\n",
    "print(len(freq_distribution))\n",
    "print(f'Min freq: {min(freqs)}')\n",
    "print(f'Max freq: {max(freqs)}')\n",
    "print(f'Max/Min ratio: {int(max(freqs))/int(min(freqs))}')"
   ]
  },
  {
   "cell_type": "markdown",
   "id": "7da9ce67-4158-4945-aa44-e5e415779e48",
   "metadata": {},
   "source": [
    "Next steps:\n",
    "- [ ] Look at the words in a few different segments of the distribution\n",
    "- [ ] See if there is a sane cutoff point / if there is useful filtering to be done\n",
    "- [ ] See if there is useful rescaling I can do of the counts. Probably want to keep counts instead of weights b/c it allows re-scaling of subsets (ie of just the 5-letter words)"
   ]
  }
 ],
 "metadata": {
  "kernelspec": {
   "display_name": "Python 3 (ipykernel)",
   "language": "python",
   "name": "python3"
  },
  "language_info": {
   "codemirror_mode": {
    "name": "ipython",
    "version": 3
   },
   "file_extension": ".py",
   "mimetype": "text/x-python",
   "name": "python",
   "nbconvert_exporter": "python",
   "pygments_lexer": "ipython3",
   "version": "3.7.3"
  }
 },
 "nbformat": 4,
 "nbformat_minor": 5
}
